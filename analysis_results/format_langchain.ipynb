{
 "cells": [
  {
   "cell_type": "markdown",
   "id": "c4e4862c",
   "metadata": {},
   "source": [
    "# Format LangChain Results"
   ]
  },
  {
   "cell_type": "code",
   "execution_count": 61,
   "id": "9145b05b",
   "metadata": {},
   "outputs": [],
   "source": [
    "import pandas as pd"
   ]
  },
  {
   "cell_type": "code",
   "execution_count": 62,
   "id": "7f0b90e7",
   "metadata": {},
   "outputs": [],
   "source": [
    "n_samples = 10\n",
    "\n",
    "df_1 = pd.read_csv(f\"evaluation/langchain/FSE2025-NIER-RQ1-ROUGE-1-{n_samples}samples.csv\")\n",
    "df_2 = pd.read_csv(f\"evaluation/langchain/FSE2025-NIER-RQ1-ROUGE-2-{n_samples}samples.csv\")\n",
    "df_l = pd.read_csv(f\"evaluation/langchain/FSE2025-NIER-RQ1-ROUGE-L-{n_samples}samples.csv\")"
   ]
  },
  {
   "cell_type": "code",
   "execution_count": 63,
   "id": "d11bb12b",
   "metadata": {},
   "outputs": [],
   "source": [
    "df_1.rename(columns={\"Score\": \"ROUGE-1\"}, inplace=True)\n",
    "df_2.rename(columns={\"Score\": \"ROUGE-2\"}, inplace=True)\n",
    "df_l.rename(columns={\"Score\": \"ROUGE-L\", \"System\": \"Tool\"}, inplace=True)"
   ]
  },
  {
   "cell_type": "code",
   "execution_count": 64,
   "id": "499c6d97",
   "metadata": {},
   "outputs": [],
   "source": [
    "df = pd.concat([df_1[[\"ROUGE-1\"]], df_2[[\"ROUGE-2\"]], df_l], axis=1)"
   ]
  },
  {
   "cell_type": "code",
   "execution_count": 65,
   "id": "65706a6a",
   "metadata": {},
   "outputs": [],
   "source": [
    "df = df[df[\"Tool\"]==\"Metagente\"]"
   ]
  },
  {
   "cell_type": "code",
   "execution_count": 66,
   "id": "e2e4df27",
   "metadata": {},
   "outputs": [],
   "source": [
    "df.to_csv(f\"evaluation_TS{n_samples}.csv\", index=False)"
   ]
  },
  {
   "cell_type": "code",
   "execution_count": null,
   "id": "d6a9c527",
   "metadata": {},
   "outputs": [],
   "source": [
    "from rouge_score import rouge_scorer\n",
    "\n"
   ]
  }
 ],
 "metadata": {
  "kernelspec": {
   "display_name": "thesis",
   "language": "python",
   "name": "python3"
  },
  "language_info": {
   "codemirror_mode": {
    "name": "ipython",
    "version": 3
   },
   "file_extension": ".py",
   "mimetype": "text/x-python",
   "name": "python",
   "nbconvert_exporter": "python",
   "pygments_lexer": "ipython3",
   "version": "3.12.2"
  }
 },
 "nbformat": 4,
 "nbformat_minor": 5
}
